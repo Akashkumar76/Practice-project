{
 "cells": [
  {
   "cell_type": "markdown",
   "id": "54a4cd45",
   "metadata": {},
   "source": [
    "# Advertising Sales Channel Prediction"
   ]
  },
  {
   "cell_type": "markdown",
   "id": "ed093e94",
   "metadata": {},
   "source": [
    "Sales Channel Prediction Case Study  \n",
    "\n",
    "When a company enters a market, the distribution strategy and channel it uses are keys to its success in the market, as well as market know-how and customer knowledge and understanding. Because an effective distribution strategy under efficient supply-chain management opens doors for attaining competitive advantage and strong brand equity in the market, it is a component of the marketing mix that cannot be ignored . \n",
    "\n",
    "The distribution strategy and the channel design have to be right the first time. The case study of Sales channel includes the detailed study of TV, radio and newspaper channel. The predict the total sales generated from all the sales channel.  "
   ]
  },
  {
   "cell_type": "code",
   "execution_count": 1,
   "id": "8daaa508",
   "metadata": {},
   "outputs": [],
   "source": [
    "import pandas as pd\n",
    "import numpy as np\n",
    "import matplotlib.pyplot as plt\n",
    "import warnings\n",
    "warnings.filterwarnings('ignore')\n",
    "%matplotlib inline\n",
    "import seaborn as sns\n",
    "from sklearn.metrics import mean_squared_error, mean_absolute_error, mean_squared_log_error\n",
    "from sklearn.svm import SVR\n",
    "from sklearn.ensemble import RandomForestRegressor\n",
    "from sklearn.neighbors import KNeighborsRegressor\n",
    "from sklearn.linear_model import LinearRegression\n",
    "from sklearn.linear_model import Ridge,Lasso\n",
    "from sklearn.model_selection import train_test_split\n",
    "from sklearn.model_selection import cross_val_score\n",
    "from sklearn.preprocessing import LabelEncoder,OneHotEncoder"
   ]
  },
  {
   "cell_type": "markdown",
   "id": "3499c967",
   "metadata": {},
   "source": [
    "# Importing the Dataset"
   ]
  },
  {
   "cell_type": "code",
   "execution_count": 2,
   "id": "1d408f11",
   "metadata": {},
   "outputs": [],
   "source": [
    "df=pd.read_csv(\"https://raw.githubusercontent.com/dsrscientist/DSData/master/Advertising.csv\")"
   ]
  },
  {
   "cell_type": "markdown",
   "id": "499f3706",
   "metadata": {},
   "source": [
    "checking the first five rows of the dataset"
   ]
  },
  {
   "cell_type": "code",
   "execution_count": 3,
   "id": "28d5b9cd",
   "metadata": {},
   "outputs": [
    {
     "data": {
      "text/html": [
       "<div>\n",
       "<style scoped>\n",
       "    .dataframe tbody tr th:only-of-type {\n",
       "        vertical-align: middle;\n",
       "    }\n",
       "\n",
       "    .dataframe tbody tr th {\n",
       "        vertical-align: top;\n",
       "    }\n",
       "\n",
       "    .dataframe thead th {\n",
       "        text-align: right;\n",
       "    }\n",
       "</style>\n",
       "<table border=\"1\" class=\"dataframe\">\n",
       "  <thead>\n",
       "    <tr style=\"text-align: right;\">\n",
       "      <th></th>\n",
       "      <th>Unnamed: 0</th>\n",
       "      <th>TV</th>\n",
       "      <th>radio</th>\n",
       "      <th>newspaper</th>\n",
       "      <th>sales</th>\n",
       "    </tr>\n",
       "  </thead>\n",
       "  <tbody>\n",
       "    <tr>\n",
       "      <th>0</th>\n",
       "      <td>1</td>\n",
       "      <td>230.1</td>\n",
       "      <td>37.8</td>\n",
       "      <td>69.2</td>\n",
       "      <td>22.1</td>\n",
       "    </tr>\n",
       "    <tr>\n",
       "      <th>1</th>\n",
       "      <td>2</td>\n",
       "      <td>44.5</td>\n",
       "      <td>39.3</td>\n",
       "      <td>45.1</td>\n",
       "      <td>10.4</td>\n",
       "    </tr>\n",
       "    <tr>\n",
       "      <th>2</th>\n",
       "      <td>3</td>\n",
       "      <td>17.2</td>\n",
       "      <td>45.9</td>\n",
       "      <td>69.3</td>\n",
       "      <td>9.3</td>\n",
       "    </tr>\n",
       "    <tr>\n",
       "      <th>3</th>\n",
       "      <td>4</td>\n",
       "      <td>151.5</td>\n",
       "      <td>41.3</td>\n",
       "      <td>58.5</td>\n",
       "      <td>18.5</td>\n",
       "    </tr>\n",
       "    <tr>\n",
       "      <th>4</th>\n",
       "      <td>5</td>\n",
       "      <td>180.8</td>\n",
       "      <td>10.8</td>\n",
       "      <td>58.4</td>\n",
       "      <td>12.9</td>\n",
       "    </tr>\n",
       "  </tbody>\n",
       "</table>\n",
       "</div>"
      ],
      "text/plain": [
       "   Unnamed: 0     TV  radio  newspaper  sales\n",
       "0           1  230.1   37.8       69.2   22.1\n",
       "1           2   44.5   39.3       45.1   10.4\n",
       "2           3   17.2   45.9       69.3    9.3\n",
       "3           4  151.5   41.3       58.5   18.5\n",
       "4           5  180.8   10.8       58.4   12.9"
      ]
     },
     "execution_count": 3,
     "metadata": {},
     "output_type": "execute_result"
    }
   ],
   "source": [
    "df.head()"
   ]
  },
  {
   "cell_type": "markdown",
   "id": "756725c6",
   "metadata": {},
   "source": [
    "# Lets start the EDA process on this Dataset"
   ]
  },
  {
   "cell_type": "markdown",
   "id": "aa76e336",
   "metadata": {},
   "source": [
    "Checking the number of rows and columns of the dataset"
   ]
  },
  {
   "cell_type": "code",
   "execution_count": 4,
   "id": "1a10aec4",
   "metadata": {},
   "outputs": [
    {
     "data": {
      "text/plain": [
       "(200, 5)"
      ]
     },
     "execution_count": 4,
     "metadata": {},
     "output_type": "execute_result"
    }
   ],
   "source": [
    "df.shape"
   ]
  },
  {
   "cell_type": "markdown",
   "id": "868a64de",
   "metadata": {},
   "source": [
    "This dataset contains 200 rows and 5 columns\n",
    "\n",
    "Checking the Datatypes of all the values of the Dataset"
   ]
  },
  {
   "cell_type": "code",
   "execution_count": 5,
   "id": "68e4e287",
   "metadata": {},
   "outputs": [
    {
     "data": {
      "text/plain": [
       "Unnamed: 0      int64\n",
       "TV            float64\n",
       "radio         float64\n",
       "newspaper     float64\n",
       "sales         float64\n",
       "dtype: object"
      ]
     },
     "execution_count": 5,
     "metadata": {},
     "output_type": "execute_result"
    }
   ],
   "source": [
    "df.dtypes"
   ]
  },
  {
   "cell_type": "markdown",
   "id": "3bc43925",
   "metadata": {},
   "source": [
    "As we can see above all the variables' values are of either integer or float datatype.Means all values\n",
    "\n",
    "are continuous."
   ]
  },
  {
   "cell_type": "markdown",
   "id": "e778cf91",
   "metadata": {},
   "source": [
    "Checking the names of all columns separately"
   ]
  },
  {
   "cell_type": "code",
   "execution_count": 6,
   "id": "2cd065d6",
   "metadata": {},
   "outputs": [
    {
     "data": {
      "text/plain": [
       "Index(['Unnamed: 0', 'TV', 'radio', 'newspaper', 'sales'], dtype='object')"
      ]
     },
     "execution_count": 6,
     "metadata": {},
     "output_type": "execute_result"
    }
   ],
   "source": [
    "df.columns"
   ]
  },
  {
   "cell_type": "markdown",
   "id": "b37feafc",
   "metadata": {},
   "source": [
    "# Missing Values Detection"
   ]
  },
  {
   "cell_type": "code",
   "execution_count": 7,
   "id": "9f939da3",
   "metadata": {},
   "outputs": [
    {
     "data": {
      "text/plain": [
       "Unnamed: 0    0\n",
       "TV            0\n",
       "radio         0\n",
       "newspaper     0\n",
       "sales         0\n",
       "dtype: int64"
      ]
     },
     "execution_count": 7,
     "metadata": {},
     "output_type": "execute_result"
    }
   ],
   "source": [
    "df.isnull().sum()"
   ]
  },
  {
   "cell_type": "markdown",
   "id": "6697a0dd",
   "metadata": {},
   "source": [
    "we dont have any null value in any column."
   ]
  },
  {
   "cell_type": "markdown",
   "id": "b0a8707f",
   "metadata": {},
   "source": [
    "# Outliers' Detection"
   ]
  },
  {
   "cell_type": "markdown",
   "id": "60c532e9",
   "metadata": {},
   "source": [
    "Plotting the boxplots for detecting the outliers"
   ]
  },
  {
   "cell_type": "code",
   "execution_count": 8,
   "id": "8ef5f018",
   "metadata": {},
   "outputs": [
    {
     "data": {
      "text/plain": [
       "Index(['Unnamed: 0', 'TV', 'radio', 'newspaper', 'sales'], dtype='object')"
      ]
     },
     "execution_count": 8,
     "metadata": {},
     "output_type": "execute_result"
    }
   ],
   "source": [
    "df.columns"
   ]
  },
  {
   "cell_type": "code",
   "execution_count": 9,
   "id": "55df452d",
   "metadata": {},
   "outputs": [
    {
     "data": {
      "text/plain": [
       "<AxesSubplot:xlabel='TV'>"
      ]
     },
     "execution_count": 9,
     "metadata": {},
     "output_type": "execute_result"
    },
    {
     "data": {
      "image/png": "[encoded data removed]",
      "text/plain": [
       "<Figure size 432x288 with 1 Axes>"
      ]
     },
     "metadata": {
      "needs_background": "light"
     },
     "output_type": "display_data"
    }
   ],
   "source": [
    "sns.boxplot(df['TV'])"
   ]
  },
  {
   "cell_type": "markdown",
   "id": "79e3ee97",
   "metadata": {},
   "source": [
    "There are not outliers in column TV\n",
    "\n",
    "sns.boxplot(df['radio'])\n",
    "\n",
    "There is not outlier present in 'radio' column"
   ]
  },
  {
   "cell_type": "code",
   "execution_count": 10,
   "id": "f5c1b796",
   "metadata": {},
   "outputs": [
    {
     "data": {
      "text/plain": [
       "<AxesSubplot:xlabel='newspaper'>"
      ]
     },
     "execution_count": 10,
     "metadata": {},
     "output_type": "execute_result"
    },
    {
     "data": {
      "image/png": "[encoded data removed]",
      "text/plain": [
       "<Figure size 432x288 with 1 Axes>"
      ]
     },
     "metadata": {
      "needs_background": "light"
     },
     "output_type": "display_data"
    }
   ],
   "source": [
    "sns.boxplot(df['newspaper'])"
   ]
  },
  {
   "cell_type": "markdown",
   "id": "6b8a5b39",
   "metadata": {},
   "source": [
    "We can see there are 2 outliers present in 'newspaper' column"
   ]
  },
  {
   "cell_type": "code",
   "execution_count": 11,
   "id": "909bb7c4",
   "metadata": {},
   "outputs": [
    {
     "data": {
      "text/plain": [
       "<AxesSubplot:xlabel='sales'>"
      ]
     },
     "execution_count": 11,
     "metadata": {},
     "output_type": "execute_result"
    },
    {
     "data": {
      "image/png": "[encoded data removed]",
      "text/plain": [
       "<Figure size 432x288 with 1 Axes>"
      ]
     },
     "metadata": {
      "needs_background": "light"
     },
     "output_type": "display_data"
    }
   ],
   "source": [
    "sns.boxplot(df['sales'])"
   ]
  },
  {
   "cell_type": "markdown",
   "id": "c8d9ee64",
   "metadata": {},
   "source": [
    "There is no outlier present in 'sales' column."
   ]
  },
  {
   "cell_type": "markdown",
   "id": "53a0cf71",
   "metadata": {},
   "source": [
    "# Removal of Outliers"
   ]
  },
  {
   "cell_type": "code",
   "execution_count": 12,
   "id": "a3c73efa",
   "metadata": {},
   "outputs": [
    {
     "data": {
      "image/png": "[encoded data removed]",
      "text/plain": [
       "<Figure size 432x288 with 1 Axes>"
      ]
     },
     "metadata": {
      "needs_background": "light"
     },
     "output_type": "display_data"
    }
   ],
   "source": [
    "sns.distplot(df['newspaper']);"
   ]
  },
  {
   "cell_type": "markdown",
   "id": "8243efb6",
   "metadata": {},
   "source": [
    "The distribution plot of the count values reveals that the count values do not match a\n",
    "\n",
    "normal distribution. We will use the median and interquartile range (IQR) to identify and\n",
    "\n",
    "remove outliers from the data. (An alternative approach would be the transformation of the\n",
    "\n",
    "target values to a normal distribution and using mean and standard deviation"
   ]
  },
  {
   "cell_type": "code",
   "execution_count": 13,
   "id": "d9a85a28",
   "metadata": {},
   "outputs": [
    {
     "name": "stdout",
     "output_type": "stream",
     "text": [
      "Samples in dataset with outliers: 200\n",
      "Samples in dataset without outliers: 198\n"
     ]
    },
    {
     "data": {
      "image/png": "[encoded data removed]",
      "text/plain": [
       "<Figure size 432x288 with 1 Axes>"
      ]
     },
     "metadata": {
      "needs_background": "light"
     },
     "output_type": "display_data"
    }
   ],
   "source": [
    "print(\"Samples in dataset with outliers: {}\".format(len(df)))\n",
    "q1 = df.newspaper.quantile(0.25)\n",
    "q3 = df.newspaper.quantile(0.75)\n",
    "iqr = q3 - q1\n",
    "lower_bound = q1 -(1.5 * iqr) \n",
    "upper_bound = q3 +(1.5 * iqr) \n",
    "df_preprocessed = df.loc[(df.newspaper >= lower_bound) & (df.newspaper <= upper_bound)]\n",
    "print(\"Samples in dataset without outliers: {}\".format(len(df_preprocessed)))\n",
    "sns.distplot(df_preprocessed.newspaper);"
   ]
  },
  {
   "cell_type": "markdown",
   "id": "e9b5528c",
   "metadata": {},
   "source": [
    "Now the outliers have been removed."
   ]
  },
  {
   "cell_type": "markdown",
   "id": "1b348b32",
   "metadata": {},
   "source": [
    "# Checking Skewness in the Dataset"
   ]
  },
  {
   "cell_type": "code",
   "execution_count": 14,
   "id": "26a68c75",
   "metadata": {},
   "outputs": [
    {
     "data": {
      "text/plain": [
       "array([[<AxesSubplot:title={'center':'Unnamed: 0'}>,\n",
       "        <AxesSubplot:title={'center':'TV'}>,\n",
       "        <AxesSubplot:title={'center':'radio'}>],\n",
       "       [<AxesSubplot:title={'center':'newspaper'}>,\n",
       "        <AxesSubplot:title={'center':'sales'}>, <AxesSubplot:>]],\n",
       "      dtype=object)"
      ]
     },
     "execution_count": 14,
     "metadata": {},
     "output_type": "execute_result"
    },
    {
     "data": {
      "image/png": "[encoded data removed]",
      "text/plain": [
       "<Figure size 1440x1440 with 6 Axes>"
      ]
     },
     "metadata": {
      "needs_background": "light"
     },
     "output_type": "display_data"
    }
   ],
   "source": [
    "df.hist(figsize=(20,20), grid = True, layout = (2,3), bins = 30)"
   ]
  },
  {
   "cell_type": "markdown",
   "id": "898db424",
   "metadata": {},
   "source": [
    "From above visualization ,we can see that column 'newspaper' is somewhat skewed."
   ]
  },
  {
   "cell_type": "markdown",
   "id": "eb0807c1",
   "metadata": {},
   "source": [
    "# Removal of Skewness"
   ]
  },
  {
   "cell_type": "markdown",
   "id": "380930d1",
   "metadata": {},
   "source": [
    "We will take the log of the 'newspaper' column to remove the skewness"
   ]
  },
  {
   "cell_type": "code",
   "execution_count": 15,
   "id": "fc9947b3",
   "metadata": {},
   "outputs": [],
   "source": [
    "df['newspaper']=np.log(df['newspaper'])"
   ]
  },
  {
   "cell_type": "markdown",
   "id": "1b0ab088",
   "metadata": {},
   "source": [
    "# Correlation Analysis"
   ]
  },
  {
   "cell_type": "code",
   "execution_count": 16,
   "id": "5c2c937c",
   "metadata": {},
   "outputs": [
    {
     "data": {
      "text/html": [
       "<div>\n",
       "<style scoped>\n",
       "    .dataframe tbody tr th:only-of-type {\n",
       "        vertical-align: middle;\n",
       "    }\n",
       "\n",
       "    .dataframe tbody tr th {\n",
       "        vertical-align: top;\n",
       "    }\n",
       "\n",
       "    .dataframe thead th {\n",
       "        text-align: right;\n",
       "    }\n",
       "</style>\n",
       "<table border=\"1\" class=\"dataframe\">\n",
       "  <thead>\n",
       "    <tr style=\"text-align: right;\">\n",
       "      <th></th>\n",
       "      <th>Unnamed: 0</th>\n",
       "      <th>TV</th>\n",
       "      <th>radio</th>\n",
       "      <th>newspaper</th>\n",
       "      <th>sales</th>\n",
       "    </tr>\n",
       "  </thead>\n",
       "  <tbody>\n",
       "    <tr>\n",
       "      <th>Unnamed: 0</th>\n",
       "      <td>1.000000</td>\n",
       "      <td>0.017715</td>\n",
       "      <td>-0.110680</td>\n",
       "      <td>-0.103069</td>\n",
       "      <td>-0.051616</td>\n",
       "    </tr>\n",
       "    <tr>\n",
       "      <th>TV</th>\n",
       "      <td>0.017715</td>\n",
       "      <td>1.000000</td>\n",
       "      <td>0.054809</td>\n",
       "      <td>0.024189</td>\n",
       "      <td>0.782224</td>\n",
       "    </tr>\n",
       "    <tr>\n",
       "      <th>radio</th>\n",
       "      <td>-0.110680</td>\n",
       "      <td>0.054809</td>\n",
       "      <td>1.000000</td>\n",
       "      <td>0.237159</td>\n",
       "      <td>0.576223</td>\n",
       "    </tr>\n",
       "    <tr>\n",
       "      <th>newspaper</th>\n",
       "      <td>-0.103069</td>\n",
       "      <td>0.024189</td>\n",
       "      <td>0.237159</td>\n",
       "      <td>1.000000</td>\n",
       "      <td>0.151936</td>\n",
       "    </tr>\n",
       "    <tr>\n",
       "      <th>sales</th>\n",
       "      <td>-0.051616</td>\n",
       "      <td>0.782224</td>\n",
       "      <td>0.576223</td>\n",
       "      <td>0.151936</td>\n",
       "      <td>1.000000</td>\n",
       "    </tr>\n",
       "  </tbody>\n",
       "</table>\n",
       "</div>"
      ],
      "text/plain": [
       "            Unnamed: 0        TV     radio  newspaper     sales\n",
       "Unnamed: 0    1.000000  0.017715 -0.110680  -0.103069 -0.051616\n",
       "TV            0.017715  1.000000  0.054809   0.024189  0.782224\n",
       "radio        -0.110680  0.054809  1.000000   0.237159  0.576223\n",
       "newspaper    -0.103069  0.024189  0.237159   1.000000  0.151936\n",
       "sales        -0.051616  0.782224  0.576223   0.151936  1.000000"
      ]
     },
     "execution_count": 16,
     "metadata": {},
     "output_type": "execute_result"
    }
   ],
   "source": [
    "df.corr()"
   ]
  },
  {
   "cell_type": "code",
   "execution_count": 17,
   "id": "2a59a526",
   "metadata": {},
   "outputs": [
    {
     "data": {
      "text/plain": [
       "<AxesSubplot:>"
      ]
     },
     "execution_count": 17,
     "metadata": {},
     "output_type": "execute_result"
    },
    {
     "data": {
      "image/png": "[encoded data removed]",
      "text/plain": [
       "<Figure size 504x504 with 2 Axes>"
      ]
     },
     "metadata": {
      "needs_background": "light"
     },
     "output_type": "display_data"
    }
   ],
   "source": [
    "plt.figure(figsize=(7,7))\n",
    "sns.heatmap(df.corr(),color ='k',annot=True)"
   ]
  },
  {
   "cell_type": "markdown",
   "id": "17a23263",
   "metadata": {},
   "source": [
    "After descriptive analysis we can say that--\n",
    "\n",
    "Strong relationship between TV ads and sales\n",
    "\n",
    "Weak relationship between Radio ads and sales\n",
    "\n",
    "Very weak to no relationship between Newspaper ads and sales"
   ]
  },
  {
   "cell_type": "markdown",
   "id": "b70c2a22",
   "metadata": {},
   "source": [
    "visualize the relationship between the features and the response using scatterplots\n",
    "\n",
    "this produces pairs of scatterplot as shown\n",
    "\n",
    "use aspect= to control the size of the graphs\n",
    "\n",
    "use kind='reg' to plot linear regression on the grap"
   ]
  },
  {
   "cell_type": "code",
   "execution_count": 19,
   "id": "e10d3998",
   "metadata": {},
   "outputs": [
    {
     "data": {
      "text/plain": [
       "<seaborn.axisgrid.PairGrid at 0x2946561aa60>"
      ]
     },
     "execution_count": 19,
     "metadata": {},
     "output_type": "execute_result"
    },
    {
     "data": {
      "image/png": "[encoded data removed]",
      "text/plain": [
       "<Figure size 1843.2x576 with 5 Axes>"
      ]
     },
     "metadata": {
      "needs_background": "light"
     },
     "output_type": "display_data"
    }
   ],
   "source": [
    "sns.pairplot(df,x_vars=['TV','radio','newspaper','sales'],y_vars='sales',size=8,aspect=.8,kind='reg')"
   ]
  },
  {
   "cell_type": "markdown",
   "id": "c950d620",
   "metadata": {},
   "source": [
    "Strong relationship between TV ads and sales\n",
    "\n",
    "Weak relationship between Radio ads and sales\n",
    "\n",
    "Very weak to no relationship between Newspaper ads and sales"
   ]
  },
  {
   "cell_type": "code",
   "execution_count": 20,
   "id": "fe945d2c",
   "metadata": {},
   "outputs": [
    {
     "data": {
      "text/plain": [
       "<AxesSubplot:xlabel='sales'>"
      ]
     },
     "execution_count": 20,
     "metadata": {},
     "output_type": "execute_result"
    },
    {
     "data": {
      "image/png": "[encoded data removed]",
      "text/plain": [
       "<Figure size 432x288 with 1 Axes>"
      ]
     },
     "metadata": {
      "needs_background": "light"
     },
     "output_type": "display_data"
    }
   ],
   "source": [
    "#plotting the graph for visualizing better the distribution of \"sales\" variable.\n",
    "sns.violinplot(x='sales', data=df)"
   ]
  },
  {
   "cell_type": "code",
   "execution_count": 21,
   "id": "6f9b6bc5",
   "metadata": {},
   "outputs": [
    {
     "data": {
      "text/plain": [
       "<AxesSubplot:xlabel='TV'>"
      ]
     },
     "execution_count": 21,
     "metadata": {},
     "output_type": "execute_result"
    },
    {
     "data": {
      "image/png": "[encoded data removed]",
      "text/plain": [
       "<Figure size 432x288 with 1 Axes>"
      ]
     },
     "metadata": {
      "needs_background": "light"
     },
     "output_type": "display_data"
    }
   ],
   "source": [
    "#plotting the graph for visualizing better the distribution of \"TV\" variable.\n",
    "sns.violinplot(x='TV', data=df)"
   ]
  },
  {
   "cell_type": "code",
   "execution_count": 22,
   "id": "7fb110a8",
   "metadata": {},
   "outputs": [
    {
     "data": {
      "text/plain": [
       "<AxesSubplot:xlabel='radio'>"
      ]
     },
     "execution_count": 22,
     "metadata": {},
     "output_type": "execute_result"
    },
    {
     "data": {
      "image/png": "[encoded data removed]",
      "text/plain": [
       "<Figure size 432x288 with 1 Axes>"
      ]
     },
     "metadata": {
      "needs_background": "light"
     },
     "output_type": "display_data"
    }
   ],
   "source": [
    "#plotting the graph for visualizing better the distribution of \"radio\" variable.\n",
    "sns.violinplot(x='radio', data=df)"
   ]
  },
  {
   "cell_type": "code",
   "execution_count": 23,
   "id": "363acb04",
   "metadata": {},
   "outputs": [
    {
     "data": {
      "text/plain": [
       "<AxesSubplot:xlabel='newspaper'>"
      ]
     },
     "execution_count": 23,
     "metadata": {},
     "output_type": "execute_result"
    },
    {
     "data": {
      "image/png": "[encoded data removed]",
      "text/plain": [
       "<Figure size 432x288 with 1 Axes>"
      ]
     },
     "metadata": {
      "needs_background": "light"
     },
     "output_type": "display_data"
    }
   ],
   "source": [
    "#plotting the graph for visualizing better the distribution of \"newspaper\" variable.\n",
    "sns.violinplot(x='newspaper', data=df)"
   ]
  },
  {
   "cell_type": "code",
   "execution_count": 24,
   "id": "6d83912f",
   "metadata": {},
   "outputs": [
    {
     "data": {
      "text/plain": [
       "Index(['Unnamed: 0', 'TV', 'radio', 'newspaper', 'sales'], dtype='object')"
      ]
     },
     "execution_count": 24,
     "metadata": {},
     "output_type": "execute_result"
    }
   ],
   "source": [
    "df.columns"
   ]
  },
  {
   "cell_type": "markdown",
   "id": "8c944e1c",
   "metadata": {},
   "source": [
    "Preparing X and y using pandas\n",
    "\n",
    "scikit-learn expects X (feature matrix) and y (response vector) to be NumPy arrays\n",
    "\n",
    "However, pandas is built on top of NumPy\n",
    "\n",
    "Thus, X can be a pandas DataFrame (matrix) and y can be a pandas Series (vector)"
   ]
  },
  {
   "cell_type": "code",
   "execution_count": 25,
   "id": "53633caa",
   "metadata": {},
   "outputs": [
    {
     "data": {
      "text/html": [
       "<div>\n",
       "<style scoped>\n",
       "    .dataframe tbody tr th:only-of-type {\n",
       "        vertical-align: middle;\n",
       "    }\n",
       "\n",
       "    .dataframe tbody tr th {\n",
       "        vertical-align: top;\n",
       "    }\n",
       "\n",
       "    .dataframe thead th {\n",
       "        text-align: right;\n",
       "    }\n",
       "</style>\n",
       "<table border=\"1\" class=\"dataframe\">\n",
       "  <thead>\n",
       "    <tr style=\"text-align: right;\">\n",
       "      <th></th>\n",
       "      <th>TV</th>\n",
       "      <th>radio</th>\n",
       "      <th>newspaper</th>\n",
       "    </tr>\n",
       "  </thead>\n",
       "  <tbody>\n",
       "    <tr>\n",
       "      <th>0</th>\n",
       "      <td>230.1</td>\n",
       "      <td>37.8</td>\n",
       "      <td>4.237001</td>\n",
       "    </tr>\n",
       "    <tr>\n",
       "      <th>1</th>\n",
       "      <td>44.5</td>\n",
       "      <td>39.3</td>\n",
       "      <td>3.808882</td>\n",
       "    </tr>\n",
       "    <tr>\n",
       "      <th>2</th>\n",
       "      <td>17.2</td>\n",
       "      <td>45.9</td>\n",
       "      <td>4.238445</td>\n",
       "    </tr>\n",
       "    <tr>\n",
       "      <th>3</th>\n",
       "      <td>151.5</td>\n",
       "      <td>41.3</td>\n",
       "      <td>4.069027</td>\n",
       "    </tr>\n",
       "    <tr>\n",
       "      <th>4</th>\n",
       "      <td>180.8</td>\n",
       "      <td>10.8</td>\n",
       "      <td>4.067316</td>\n",
       "    </tr>\n",
       "  </tbody>\n",
       "</table>\n",
       "</div>"
      ],
      "text/plain": [
       "      TV  radio  newspaper\n",
       "0  230.1   37.8   4.237001\n",
       "1   44.5   39.3   3.808882\n",
       "2   17.2   45.9   4.238445\n",
       "3  151.5   41.3   4.069027\n",
       "4  180.8   10.8   4.067316"
      ]
     },
     "execution_count": 25,
     "metadata": {},
     "output_type": "execute_result"
    }
   ],
   "source": [
    "# create a Python list of feature names\n",
    "feature_cols = ['TV', 'radio', 'newspaper']\n",
    "\n",
    "# use the list to select a subset of the original DataFrame\n",
    "X = df[feature_cols]\n",
    "\n",
    "# equivalent command to do this in one line using double square brackets\n",
    "# inner bracket is a list\n",
    "# outer bracker accesses a subset of the original DataFrame\n",
    "X = df[['TV', 'radio', 'newspaper']]\n",
    "\n",
    "# print the first 5 rows\n",
    "X.head()"
   ]
  },
  {
   "cell_type": "code",
   "execution_count": 26,
   "id": "3c1c1ad2",
   "metadata": {},
   "outputs": [
    {
     "name": "stdout",
     "output_type": "stream",
     "text": [
      "<class 'pandas.core.frame.DataFrame'>\n",
      "(200, 3)\n"
     ]
    }
   ],
   "source": [
    "# check the type and shape of X\n",
    "print(type(X))\n",
    "print(X.shape)"
   ]
  },
  {
   "cell_type": "code",
   "execution_count": 27,
   "id": "e837460b",
   "metadata": {},
   "outputs": [
    {
     "data": {
      "text/plain": [
       "0    22.1\n",
       "1    10.4\n",
       "2     9.3\n",
       "3    18.5\n",
       "4    12.9\n",
       "Name: sales, dtype: float64"
      ]
     },
     "execution_count": 27,
     "metadata": {},
     "output_type": "execute_result"
    }
   ],
   "source": [
    "# select a Series from the DataFrame\n",
    "y = df['sales']\n",
    "\n",
    "# equivalent command that works if there are no spaces in the column name\n",
    "# you can select the sales as an attribute of the DataFrame\n",
    "y = df.sales\n",
    "\n",
    "# print the first 5 values\n",
    "y.head()"
   ]
  },
  {
   "cell_type": "code",
   "execution_count": 28,
   "id": "6b33379e",
   "metadata": {},
   "outputs": [
    {
     "name": "stdout",
     "output_type": "stream",
     "text": [
      "<class 'pandas.core.series.Series'>\n",
      "(200,)\n"
     ]
    }
   ],
   "source": [
    "# check the type and shape of y\n",
    "print(type(y))\n",
    "print(y.shape)"
   ]
  },
  {
   "cell_type": "markdown",
   "id": "7b9b1c42",
   "metadata": {},
   "source": [
    "# Divide the dataset into training and testing set"
   ]
  },
  {
   "cell_type": "code",
   "execution_count": 29,
   "id": "d91187cd",
   "metadata": {},
   "outputs": [],
   "source": [
    "X_train, X_test, y_train, y_test = train_test_split(X, y, random_state=1)"
   ]
  },
  {
   "cell_type": "code",
   "execution_count": 30,
   "id": "7fa71b85",
   "metadata": {},
   "outputs": [
    {
     "name": "stdout",
     "output_type": "stream",
     "text": [
      "(150, 3)\n",
      "(50, 3)\n",
      "(150,)\n",
      "(50,)\n"
     ]
    }
   ],
   "source": [
    "# default split is 75% for training and 25% for testing\n",
    "print(X_train.shape)\n",
    "print(X_test.shape)\n",
    "print(y_train.shape)\n",
    "print(y_test.shape)"
   ]
  },
  {
   "cell_type": "markdown",
   "id": "567ff77b",
   "metadata": {},
   "source": [
    "# Using Standard Scaling for making Data Standardized"
   ]
  },
  {
   "cell_type": "code",
   "execution_count": 31,
   "id": "7ec34dcf",
   "metadata": {},
   "outputs": [],
   "source": [
    "from sklearn.preprocessing import StandardScaler\n",
    "sc = StandardScaler()\n",
    "X_train=sc.fit_transform(X_train)\n",
    "X_test=sc.fit_transform(X_test)"
   ]
  },
  {
   "cell_type": "markdown",
   "id": "d32e3649",
   "metadata": {},
   "source": [
    "# Model Selection"
   ]
  },
  {
   "cell_type": "markdown",
   "id": "2562f652",
   "metadata": {},
   "source": [
    "The characteristics of the given problem are:\n",
    "\n",
    "Regression: The target variable is a quantity.\n",
    "\n",
    "Small dataset: Less than 100K samples.\n",
    "\n",
    "Few features should be important: The correlation matrix indicates that a few features contain the information to predict the target variable.\n",
    "\n",
    "This characteristic makes the following methods most promising: Ridge Regression, Support Vector Regression, Ensemble Regressor, Random Forest Regressor.\n",
    "\n",
    "Overview Metrics Mean Squared Error (MSE)\n",
    "\n",
    "Root Mean Squared Logarithmic Error (RMSLE) RMSLE\n",
    "\n",
    "R2 Score\n",
    "\n",
    "We will evaluate the performance of these models in the following:"
   ]
  },
  {
   "cell_type": "code",
   "execution_count": 32,
   "id": "b3fd1cfe",
   "metadata": {},
   "outputs": [],
   "source": [
    "from sklearn.metrics import r2_score\n",
    "model= [\n",
    "    Lasso(alpha=0.1),\n",
    "    Ridge(alpha=.5),\n",
    "    \n",
    "    RandomForestRegressor( random_state=0, n_estimators=300)\n",
    "]"
   ]
  },
  {
   "cell_type": "code",
   "execution_count": 33,
   "id": "9a515ee3",
   "metadata": {},
   "outputs": [
    {
     "name": "stdout",
     "output_type": "stream",
     "text": [
      "mean absolute error  1.4312594905411122\n",
      "mean squared error  2.7667507089296044\n",
      "root mean squared error  1.6633552563807903\n",
      "\n",
      "\n",
      "mean absolute error  1.4337686437197903\n",
      "mean squared error  2.87204478927581\n",
      "root mean squared error  1.6947108276268874\n",
      "\n",
      "\n",
      "mean absolute error  1.102420000000008\n",
      "mean squared error  2.7322414022222334\n",
      "root mean squared error  1.6529493041900085\n",
      "\n",
      "\n"
     ]
    }
   ],
   "source": [
    "for m in model:\n",
    "    m.fit(X_train,y_train)\n",
    "    m.score(X_train,y_train)\n",
    "    pred=m.predict(X_test)\n",
    "    print('mean absolute error ',(mean_absolute_error(y_test,pred)))\n",
    "    print('mean squared error ',(mean_squared_error(y_test,pred)))\n",
    "    print(\"root mean squared error \" ,np.sqrt(mean_squared_error(y_test,pred)))\n",
    "    print('\\n')"
   ]
  },
  {
   "cell_type": "markdown",
   "id": "da5f5c71",
   "metadata": {},
   "source": [
    "# Hyper Parameter Tuning"
   ]
  },
  {
   "cell_type": "markdown",
   "id": "c3e01779",
   "metadata": {},
   "source": [
    "As we see above scores, the minimum error is given by 'Random Forest Regressor'\n",
    "\n",
    "So we will choose Randon Forest Regressor for further improvement"
   ]
  },
  {
   "cell_type": "code",
   "execution_count": 34,
   "id": "70cb804e",
   "metadata": {},
   "outputs": [],
   "source": [
    "rf=RandomForestRegressor(n_estimators=300,random_state=0)"
   ]
  },
  {
   "cell_type": "code",
   "execution_count": 35,
   "id": "84c2ddd2",
   "metadata": {},
   "outputs": [
    {
     "data": {
      "text/plain": [
       "RandomForestRegressor(n_estimators=300, random_state=0)"
      ]
     },
     "execution_count": 35,
     "metadata": {},
     "output_type": "execute_result"
    }
   ],
   "source": [
    "rf.fit(X_train,y_train)"
   ]
  },
  {
   "cell_type": "code",
   "execution_count": 36,
   "id": "69c9273b",
   "metadata": {},
   "outputs": [
    {
     "data": {
      "text/plain": [
       "0.9966344313158572"
      ]
     },
     "execution_count": 36,
     "metadata": {},
     "output_type": "execute_result"
    }
   ],
   "source": [
    "rf.score(X_train,y_train)"
   ]
  },
  {
   "cell_type": "code",
   "execution_count": 37,
   "id": "1760559b",
   "metadata": {},
   "outputs": [
    {
     "data": {
      "text/plain": [
       "array([22.87066667, 15.58233333,  9.13666667, 13.09966667, 16.16433333,\n",
       "       25.58833333, 16.562     , 12.54766667, 10.168     , 16.18266667,\n",
       "       14.39033333, 10.16233333, 16.33566667, 14.833     , 12.08866667,\n",
       "       14.772     , 12.517     , 11.779     ,  3.054     , 18.005     ,\n",
       "        9.57333333, 10.82966667,  3.97733333, 10.25833333, 11.655     ,\n",
       "       14.56433333,  7.258     , 19.305     , 18.47533333, 15.55466667,\n",
       "       23.36566667, 11.50166667, 16.558     , 11.42233333, 20.047     ,\n",
       "       14.908     , 11.50833333, 10.612     , 21.91966667,  3.243     ,\n",
       "        3.848     ,  9.00666667,  3.932     , 18.287     ,  3.91333333,\n",
       "       13.64733333, 12.27633333, 21.65366667, 21.57866667, 19.88466667])"
      ]
     },
     "execution_count": 37,
     "metadata": {},
     "output_type": "execute_result"
    }
   ],
   "source": [
    "pred=rf.predict(X_test)\n",
    "pred"
   ]
  },
  {
   "cell_type": "code",
   "execution_count": 38,
   "id": "e78f658f",
   "metadata": {},
   "outputs": [
    {
     "name": "stdout",
     "output_type": "stream",
     "text": [
      "mean absolute error  1.102420000000008\n",
      "mean squared error  2.7322414022222334\n",
      "root mean squared error  1.6529493041900085\n"
     ]
    }
   ],
   "source": [
    "print('mean absolute error ',(mean_absolute_error(y_test,pred)))\n",
    "print('mean squared error ',(mean_squared_error(y_test,pred)))\n",
    "print(\"root mean squared error \" ,np.sqrt(mean_squared_error(y_test,pred)))"
   ]
  },
  {
   "cell_type": "code",
   "execution_count": 39,
   "id": "8dad8ada",
   "metadata": {},
   "outputs": [
    {
     "name": "stdout",
     "output_type": "stream",
     "text": [
      "0.8831538371240732\n"
     ]
    }
   ],
   "source": [
    "from sklearn.metrics import r2_score\n",
    "print(r2_score(y_test,pred))"
   ]
  },
  {
   "cell_type": "markdown",
   "id": "357f4b87",
   "metadata": {},
   "source": [
    "# Cross Validation Score on Random Forest Regressor"
   ]
  },
  {
   "cell_type": "code",
   "execution_count": 40,
   "id": "bce70d95",
   "metadata": {},
   "outputs": [
    {
     "data": {
      "text/plain": [
       "0.9682479034973387"
      ]
     },
     "execution_count": 40,
     "metadata": {},
     "output_type": "execute_result"
    }
   ],
   "source": [
    "#Now lets try to do some evaluation for random forest model using cross validation.\n",
    "rfc_eval = cross_val_score(estimator = rf, X = X_train, y = y_train, cv = 10)\n",
    "rfc_eval.mean()"
   ]
  },
  {
   "cell_type": "code",
   "execution_count": 41,
   "id": "8eaa17cc",
   "metadata": {},
   "outputs": [
    {
     "name": "stdout",
     "output_type": "stream",
     "text": [
      "0.8831538371240732\n"
     ]
    }
   ],
   "source": [
    "print(r2_score(y_test,pred))"
   ]
  },
  {
   "cell_type": "markdown",
   "id": "67ebeac4",
   "metadata": {},
   "source": [
    "# Linear Regression"
   ]
  },
  {
   "cell_type": "code",
   "execution_count": 42,
   "id": "77352e7f",
   "metadata": {},
   "outputs": [
    {
     "data": {
      "text/plain": [
       "0.8905174794880327"
      ]
     },
     "execution_count": 42,
     "metadata": {},
     "output_type": "execute_result"
    }
   ],
   "source": [
    "lr=LinearRegression()\n",
    "lr.fit(X_train,y_train)\n",
    "lr.score(X_train,y_train)"
   ]
  },
  {
   "cell_type": "code",
   "execution_count": 43,
   "id": "f740b263",
   "metadata": {},
   "outputs": [
    {
     "data": {
      "text/plain": [
       "array([21.68030531, 15.87232863,  6.13628407, 17.38280211, 18.28222863,\n",
       "       23.96993315, 15.76989418, 12.58900164,  7.94976571, 16.86370035,\n",
       "       13.71500406,  8.65688019, 16.55593099, 16.22274208, 14.36621709,\n",
       "       14.94864048, 11.51181535, 16.61780301,  9.98054816, 17.54335894,\n",
       "        7.89151885, 11.98826941,  7.54505951,  9.25794285, 10.37214671,\n",
       "       14.30149239,  8.63075713, 19.13120571, 17.63750088, 16.64538167,\n",
       "       21.47809938, 13.92000176, 15.57659374, 11.3932633 , 19.70385512,\n",
       "       14.67287057, 13.05809146,  8.88707659, 20.82348175,  6.04208246,\n",
       "        1.89553722,  5.80049378,  4.46697068, 18.08513893,  7.10383907,\n",
       "       13.30858906, 14.36426168, 20.19761993, 20.41501688, 19.32399073])"
      ]
     },
     "execution_count": 43,
     "metadata": {},
     "output_type": "execute_result"
    }
   ],
   "source": [
    "pred=lr.predict(X_test)\n",
    "pred"
   ]
  },
  {
   "cell_type": "code",
   "execution_count": 44,
   "id": "a43ca3cc",
   "metadata": {},
   "outputs": [
    {
     "name": "stdout",
     "output_type": "stream",
     "text": [
      "mean absolute error  1.4348580802124302\n",
      "mean squared error  2.885277469274064\n",
      "root mean squared error  1.6986104524799275\n"
     ]
    }
   ],
   "source": [
    "print('mean absolute error ',(mean_absolute_error(y_test,pred)))\n",
    "print('mean squared error ',(mean_squared_error(y_test,pred)))\n",
    "print(\"root mean squared error \" ,np.sqrt(mean_squared_error(y_test,pred)))"
   ]
  },
  {
   "cell_type": "code",
   "execution_count": 45,
   "id": "2c072498",
   "metadata": {},
   "outputs": [
    {
     "name": "stdout",
     "output_type": "stream",
     "text": [
      "0.8766091455744592\n"
     ]
    }
   ],
   "source": [
    "print(r2_score(y_test,pred))"
   ]
  },
  {
   "cell_type": "markdown",
   "id": "4e976925",
   "metadata": {},
   "source": [
    "# Cross Validation on Linear Regression Model"
   ]
  },
  {
   "cell_type": "code",
   "execution_count": 46,
   "id": "bdde2487",
   "metadata": {},
   "outputs": [
    {
     "data": {
      "text/plain": [
       "0.860455218329308"
      ]
     },
     "execution_count": 46,
     "metadata": {},
     "output_type": "execute_result"
    }
   ],
   "source": [
    "# Now lets try to do some evaluation for linear regressor using cross validation.\n",
    "lr_eval = cross_val_score(estimator = lr, X = X_train, y = y_train, cv = 10)\n",
    "lr_eval.mean()"
   ]
  },
  {
   "cell_type": "markdown",
   "id": "e0b7c803",
   "metadata": {},
   "source": [
    "# Using Ensemble Technique to avoid Overfitting"
   ]
  },
  {
   "cell_type": "markdown",
   "id": "d1e00b31",
   "metadata": {},
   "source": [
    "'Using Adaboost Regressor'"
   ]
  },
  {
   "cell_type": "code",
   "execution_count": 47,
   "id": "8881d269",
   "metadata": {},
   "outputs": [
    {
     "name": "stdout",
     "output_type": "stream",
     "text": [
      "0.9781900102812682\n",
      "[22.54       16.15714286 10.555      13.15       17.26346154 24.69545455\n",
      " 16.375      12.62222222 10.20833333 16.375      15.51428571 10.59130435\n",
      " 16.19411765 14.2962963  12.29090909 14.2962963  13.084375   12.62222222\n",
      "  2.4        19.06222222 10.555      10.88484848  2.6        11.02222222\n",
      " 11.93333333 14.83333333  7.25333333 19.31666667 18.25       15.10666667\n",
      " 22.46981132 12.2        16.16571429 11.85909091 19.73787879 15.80833333\n",
      " 12.2        10.99642857 22.43913043  2.6         2.6        10.555\n",
      "  2.6        19.31666667  2.6        14.68461538 11.75714286 22.36363636\n",
      " 22.2775     19.73787879]\n"
     ]
    },
    {
     "data": {
      "text/plain": [
       "0.8358057944324938"
      ]
     },
     "execution_count": 47,
     "metadata": {},
     "output_type": "execute_result"
    }
   ],
   "source": [
    "from sklearn.ensemble import AdaBoostRegressor\n",
    "adboost=AdaBoostRegressor()\n",
    "adboost.fit(X_train,y_train)\n",
    "print(adboost.score(X_train,y_train))\n",
    "abpred=adboost.predict(X_test)\n",
    "print(abpred)\n",
    "adboost.score(X_test,y_test)"
   ]
  },
  {
   "cell_type": "code",
   "execution_count": 48,
   "id": "7221ab3a",
   "metadata": {},
   "outputs": [
    {
     "name": "stdout",
     "output_type": "stream",
     "text": [
      "0.8358057944324938\n"
     ]
    }
   ],
   "source": [
    "print(r2_score(y_test,abpred))"
   ]
  },
  {
   "cell_type": "markdown",
   "id": "9e6fea93",
   "metadata": {},
   "source": [
    "# Cross Validation on AdaBooster Model"
   ]
  },
  {
   "cell_type": "code",
   "execution_count": 49,
   "id": "fa327f3c",
   "metadata": {},
   "outputs": [
    {
     "data": {
      "text/plain": [
       "0.9381114023600402"
      ]
     },
     "execution_count": 49,
     "metadata": {},
     "output_type": "execute_result"
    }
   ],
   "source": [
    "#Now lets try to do some evaluation for random forest model using cross validation.\n",
    "ada_eval = cross_val_score(estimator = adboost, X = X_train, y = y_train, cv = 10)\n",
    "ada_eval.mean()"
   ]
  },
  {
   "cell_type": "markdown",
   "id": "f95c3e53",
   "metadata": {},
   "source": [
    "If we observe all the values above ,we can see the Maximum Score comes in AdaBooster Model after Cross\n",
    "\n",
    "Validation Technique i.e. 94%.Hence saving th best model and it's values.\n",
    "\n",
    "which is AdaBoost Regressor"
   ]
  },
  {
   "cell_type": "markdown",
   "id": "d028312e",
   "metadata": {},
   "source": [
    "# Storing the predicted results in csv file"
   ]
  },
  {
   "cell_type": "code",
   "execution_count": 50,
   "id": "879f0db1",
   "metadata": {},
   "outputs": [],
   "source": [
    "abpred=pd.DataFrame(abpred,columns=['abpred']).to_csv('Advertising')"
   ]
  },
  {
   "cell_type": "markdown",
   "id": "f2876765",
   "metadata": {},
   "source": [
    "# Saving the best Model as a pickle in a file"
   ]
  },
  {
   "cell_type": "markdown",
   "id": "42cc8432",
   "metadata": {},
   "source": [
    "I have selected AdaBoosterRegressor Model as best model as it is giving me best score after\n",
    "\n",
    "performing overfitting"
   ]
  },
  {
   "cell_type": "code",
   "execution_count": 52,
   "id": "cbf5f32d",
   "metadata": {},
   "outputs": [
    {
     "data": {
      "text/plain": [
       "['Advertising Sales Channel Prediction.pkl']"
      ]
     },
     "execution_count": 52,
     "metadata": {},
     "output_type": "execute_result"
    }
   ],
   "source": [
    "#to save the model\n",
    "import joblib\n",
    "joblib.dump(model,'Advertising Sales Channel Prediction.pkl')"
   ]
  }
 ],
 "metadata": {
  "kernelspec": {
   "display_name": "Python 3 (ipykernel)",
   "language": "python",
   "name": "python3"
  },
  "language_info": {
   "codemirror_mode": {
    "name": "ipython",
    "version": 3
   },
   "file_extension": ".py",
   "mimetype": "text/x-python",
   "name": "python",
   "nbconvert_exporter": "python",
   "pygments_lexer": "ipython3",
   "version": "3.9.7"
  }
 },
 "nbformat": 4,
 "nbformat_minor": 5
}
